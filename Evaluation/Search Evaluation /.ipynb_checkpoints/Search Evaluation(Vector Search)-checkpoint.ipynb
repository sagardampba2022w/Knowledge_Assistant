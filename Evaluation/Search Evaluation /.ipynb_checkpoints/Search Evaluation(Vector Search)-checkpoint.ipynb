{
 "cells": [
  {
   "cell_type": "code",
   "execution_count": 6,
   "id": "2e23da56-9f1f-4bd9-adcd-c7e02d7565d3",
   "metadata": {},
   "outputs": [],
   "source": [
    "import json\n",
    "import pandas as pd\n",
    "from tqdm.auto import tqdm\n",
    "from sentence_transformers import SentenceTransformer\n",
    "from elasticsearch import Elasticsearch"
   ]
  },
  {
   "cell_type": "code",
   "execution_count": 7,
   "id": "d375600d-1a38-4d8d-a00c-aa22fafec00f",
   "metadata": {},
   "outputs": [
    {
     "data": {
      "text/plain": [
       "{'Category': 'General Information',\n",
       " 'Question': 'What is syndicated research?',\n",
       " 'Answer': 'Syndicated research is a type of market research where data and findings are collected and compiled by a research agency and then sold to multiple clients. It provides insights into consumer behavior, market trends, and product performance across various FMCG categories.',\n",
       " 'doc_id': '3e72e1c8'}"
      ]
     },
     "execution_count": 7,
     "metadata": {},
     "output_type": "execute_result"
    }
   ],
   "source": [
    "import json\n",
    "\n",
    "# Update the file path to the JSON file\n",
    "file_path = \"/workspaces/Rag_Project_Pod/Data_prep/final_data.json\"\n",
    "\n",
    "# Load the JSON file into a dictionary\n",
    "with open(file_path, 'r') as json_file:\n",
    "    documents = json.load(json_file)\n",
    "\n",
    "documents[0]\n"
   ]
  },
  {
   "cell_type": "markdown",
   "id": "54ae5e09-0159-4245-91ff-9853359b5037",
   "metadata": {},
   "source": [
    "# Evaluating RAG Offline"
   ]
  },
  {
   "cell_type": "code",
   "execution_count": 1,
   "id": "05e86d72-d2b4-4614-acb1-e1430774faa4",
   "metadata": {},
   "outputs": [
    {
     "name": "stderr",
     "output_type": "stream",
     "text": [
      "/usr/local/python/3.10.13/lib/python3.10/site-packages/sentence_transformers/cross_encoder/CrossEncoder.py:11: TqdmExperimentalWarning: Using `tqdm.autonotebook.tqdm` in notebook mode. Use `tqdm.tqdm` instead to force console mode (e.g. in jupyter console)\n",
      "  from tqdm.autonotebook import tqdm, trange\n",
      "/usr/local/python/3.10.13/lib/python3.10/site-packages/transformers/tokenization_utils_base.py:1601: FutureWarning: `clean_up_tokenization_spaces` was not set. It will be set to `True` by default. This behavior will be depracted in transformers v4.45, and will be then set to `False` by default. For more details check this issue: https://github.com/huggingface/transformers/issues/31884\n",
      "  warnings.warn(\n"
     ]
    }
   ],
   "source": [
    "from sentence_transformers import SentenceTransformer\n",
    "\n",
    "\n",
    "model_name = 'multi-qa-MiniLM-L6-cos-v1'\n",
    "model = SentenceTransformer(model_name)"
   ]
  },
  {
   "cell_type": "markdown",
   "id": "c160c6d9-d057-455d-a7f5-c1eefa32abd5",
   "metadata": {},
   "source": [
    "### Eval Vector Search"
   ]
  },
  {
   "cell_type": "code",
   "execution_count": 11,
   "id": "5b815076-9b9d-493b-9474-497c6c002794",
   "metadata": {},
   "outputs": [
    {
     "data": {
      "text/plain": [
       "ObjectApiResponse({'acknowledged': True, 'shards_acknowledged': True, 'index': 'course-questions'})"
      ]
     },
     "execution_count": 11,
     "metadata": {},
     "output_type": "execute_result"
    }
   ],
   "source": [
    "from elasticsearch import Elasticsearch\n",
    "\n",
    "es_client = Elasticsearch('http://localhost:9200') \n",
    "\n",
    "index_settings = {\n",
    "    \"settings\": {\n",
    "        \"number_of_shards\": 1,\n",
    "        \"number_of_replicas\": 0\n",
    "    },\n",
    "    \"mappings\": {\n",
    "        \"properties\": {\n",
    "            \"Answer\": {\"type\": \"text\"},\n",
    "            \"Category\": {\"type\": \"text\"},\n",
    "            \"Question\": {\"type\": \"text\"},\n",
    "            \"doc_id\": {\"type\": \"keyword\"},\n",
    "            \"question_vector\": {\n",
    "                \"type\": \"dense_vector\",\n",
    "                \"dims\": 384,\n",
    "                \"index\": True,\n",
    "                \"similarity\": \"cosine\"\n",
    "            },\n",
    "            \"text_vector\": {\n",
    "                \"type\": \"dense_vector\",\n",
    "                \"dims\": 384,\n",
    "                \"index\": True,\n",
    "                \"similarity\": \"cosine\"\n",
    "            },\n",
    "            \"question_text_vector\": {\n",
    "                \"type\": \"dense_vector\",\n",
    "                \"dims\": 384,\n",
    "                \"index\": True,\n",
    "                \"similarity\": \"cosine\"\n",
    "            },\n",
    "        }\n",
    "    }\n",
    "}\n",
    "\n",
    "index_name = \"insights-questions\"\n",
    "\n",
    "es_client.indices.delete(index=index_name, ignore_unavailable=True)\n",
    "es_client.indices.create(index=index_name, body=index_settings)"
   ]
  },
  {
   "cell_type": "code",
   "execution_count": 10,
   "id": "e87dc3bb-7ef1-4f97-ab26-e78b9486c80d",
   "metadata": {},
   "outputs": [
    {
     "data": {
      "application/vnd.jupyter.widget-view+json": {
       "model_id": "aff865a9c2c94f33b459ff36e1077d98",
       "version_major": 2,
       "version_minor": 0
      },
      "text/plain": [
       "  0%|          | 0/260 [00:00<?, ?it/s]"
      ]
     },
     "metadata": {},
     "output_type": "display_data"
    }
   ],
   "source": [
    "for doc in tqdm(documents):\n",
    "    question = doc['Question']\n",
    "    text = doc['Answer']\n",
    "    qt = question + ' ' + text\n",
    "\n",
    "    doc['question_vector'] = model.encode(question)\n",
    "    doc['text_vector'] = model.encode(text)\n",
    "    doc['question_text_vector'] = model.encode(qt)"
   ]
  },
  {
   "cell_type": "code",
   "execution_count": 12,
   "id": "e17b26ff-b73e-44fd-b37a-ee2b16068f6a",
   "metadata": {},
   "outputs": [
    {
     "data": {
      "application/vnd.jupyter.widget-view+json": {
       "model_id": "2b8e6a135352488fbfa614d23db9383a",
       "version_major": 2,
       "version_minor": 0
      },
      "text/plain": [
       "  0%|          | 0/260 [00:00<?, ?it/s]"
      ]
     },
     "metadata": {},
     "output_type": "display_data"
    }
   ],
   "source": [
    "for doc in tqdm(documents):\n",
    "    es_client.index(index=index_name, document=doc)"
   ]
  },
  {
   "cell_type": "code",
   "execution_count": 13,
   "id": "73ddca70-90df-4194-9fa4-6321456571a6",
   "metadata": {},
   "outputs": [],
   "source": [
    "def elastic_search_knn(field, vector):\n",
    "    # Define the KNN part of the query\n",
    "    knn = {\n",
    "        \"field\": field,\n",
    "        \"query_vector\": vector,\n",
    "        \"k\": 5,\n",
    "        \"num_candidates\": 10000\n",
    "    }\n",
    "\n",
    "    # Define the base search query without any filter\n",
    "    search_query = {\n",
    "        \"knn\": knn,\n",
    "        \"_source\": [\"Answer\", \"Category\", \"Question\", \"doc_id\"]\n",
    "    }\n",
    "\n",
    "    # Execute the query against Elasticsearch\n",
    "    es_results = es_client.search(\n",
    "        index=index_name,\n",
    "        body=search_query\n",
    "    )\n",
    "    \n",
    "    # Process the results\n",
    "    result_docs = []\n",
    "    for hit in es_results['hits']['hits']:\n",
    "        result_docs.append(hit['_source'])\n",
    "\n",
    "    return result_docs\n"
   ]
  },
  {
   "cell_type": "code",
   "execution_count": 14,
   "id": "ea8847ce-b28e-46f7-9387-4b8c5e3ad60a",
   "metadata": {},
   "outputs": [],
   "source": []
  },
  {
   "cell_type": "code",
   "execution_count": null,
   "id": "71e06983-2285-4dd7-abba-b3aaae4f2ed4",
   "metadata": {},
   "outputs": [],
   "source": []
  },
  {
   "cell_type": "code",
   "execution_count": null,
   "id": "d938edbf-c752-488d-a7a5-ffc0c30d84ac",
   "metadata": {},
   "outputs": [],
   "source": []
  },
  {
   "cell_type": "code",
   "execution_count": null,
   "id": "9f4f53e8-195e-48fd-9cb8-465f7b11cbbb",
   "metadata": {},
   "outputs": [],
   "source": []
  },
  {
   "cell_type": "code",
   "execution_count": null,
   "id": "0371aeee-70b4-46be-8e62-881816bb22a5",
   "metadata": {},
   "outputs": [],
   "source": []
  },
  {
   "cell_type": "code",
   "execution_count": 15,
   "id": "857be2b2-1017-4c9e-aa2a-eedf6bd8dc77",
   "metadata": {},
   "outputs": [
    {
     "data": {
      "text/html": [
       "<div>\n",
       "<style scoped>\n",
       "    .dataframe tbody tr th:only-of-type {\n",
       "        vertical-align: middle;\n",
       "    }\n",
       "\n",
       "    .dataframe tbody tr th {\n",
       "        vertical-align: top;\n",
       "    }\n",
       "\n",
       "    .dataframe thead th {\n",
       "        text-align: right;\n",
       "    }\n",
       "</style>\n",
       "<table border=\"1\" class=\"dataframe\">\n",
       "  <thead>\n",
       "    <tr style=\"text-align: right;\">\n",
       "      <th></th>\n",
       "      <th>Question</th>\n",
       "      <th>Category</th>\n",
       "      <th>Document</th>\n",
       "    </tr>\n",
       "  </thead>\n",
       "  <tbody>\n",
       "    <tr>\n",
       "      <th>0</th>\n",
       "      <td>Can you explain what syndicated research entails?</td>\n",
       "      <td>General Information</td>\n",
       "      <td>3e72e1c8</td>\n",
       "    </tr>\n",
       "    <tr>\n",
       "      <th>1</th>\n",
       "      <td>What type of data is included in syndicated re...</td>\n",
       "      <td>General Information</td>\n",
       "      <td>3e72e1c8</td>\n",
       "    </tr>\n",
       "    <tr>\n",
       "      <th>2</th>\n",
       "      <td>Who compiles the findings for syndicated resea...</td>\n",
       "      <td>General Information</td>\n",
       "      <td>3e72e1c8</td>\n",
       "    </tr>\n",
       "    <tr>\n",
       "      <th>3</th>\n",
       "      <td>In what industries is syndicated research comm...</td>\n",
       "      <td>General Information</td>\n",
       "      <td>3e72e1c8</td>\n",
       "    </tr>\n",
       "    <tr>\n",
       "      <th>4</th>\n",
       "      <td>How can syndicated research benefit multiple c...</td>\n",
       "      <td>General Information</td>\n",
       "      <td>3e72e1c8</td>\n",
       "    </tr>\n",
       "  </tbody>\n",
       "</table>\n",
       "</div>"
      ],
      "text/plain": [
       "                                            Question             Category  \\\n",
       "0  Can you explain what syndicated research entails?  General Information   \n",
       "1  What type of data is included in syndicated re...  General Information   \n",
       "2  Who compiles the findings for syndicated resea...  General Information   \n",
       "3  In what industries is syndicated research comm...  General Information   \n",
       "4  How can syndicated research benefit multiple c...  General Information   \n",
       "\n",
       "   Document  \n",
       "0  3e72e1c8  \n",
       "1  3e72e1c8  \n",
       "2  3e72e1c8  \n",
       "3  3e72e1c8  \n",
       "4  3e72e1c8  "
      ]
     },
     "execution_count": 15,
     "metadata": {},
     "output_type": "execute_result"
    }
   ],
   "source": [
    "import pandas as pd\n",
    "\n",
    "df_ground_truth = pd.read_csv(r'/workspaces/Rag_Project_Pod/Data_prep/ground_truth_data.csv')\n",
    "df_ground_truth.head()                              "
   ]
  },
  {
   "cell_type": "code",
   "execution_count": 17,
   "id": "7bf5f98b-bc93-4869-8a30-8543c8323654",
   "metadata": {},
   "outputs": [
    {
     "data": {
      "text/plain": [
       "{'Question': 'Can you explain what syndicated research entails?',\n",
       " 'Category': 'General Information',\n",
       " 'Document': '3e72e1c8'}"
      ]
     },
     "execution_count": 17,
     "metadata": {},
     "output_type": "execute_result"
    }
   ],
   "source": [
    "ground_truth = df_ground_truth.to_dict(orient='records')\n",
    "ground_truth[0]"
   ]
  },
  {
   "cell_type": "markdown",
   "id": "ba1c01a9-b601-45a0-9be2-307980396cec",
   "metadata": {},
   "source": [
    "relevance_total = []\n",
    "\n",
    "for q in tqdm(ground_truth):\n",
    "    doc_id = q['Document']\n",
    "    results = elastic_search(query=q['Question'])\n",
    "    relevance = [d['doc_id'] == doc_id for d in results]\n",
    "    relevance_total.append(relevance)"
   ]
  },
  {
   "cell_type": "code",
   "execution_count": 18,
   "id": "e887ca82-a82c-4b07-b95d-2363ae96221d",
   "metadata": {},
   "outputs": [],
   "source": [
    "def hit_rate(relevance_total):\n",
    "    cnt = 0\n",
    "\n",
    "    for line in relevance_total:\n",
    "        if True in line:\n",
    "            cnt = cnt + 1\n",
    "\n",
    "    return cnt / len(relevance_total)"
   ]
  },
  {
   "cell_type": "code",
   "execution_count": 19,
   "id": "f9e6cd88-eef3-4eea-b80d-10389c546838",
   "metadata": {},
   "outputs": [],
   "source": [
    "def mrr(relevance_total):\n",
    "    total_score = 0.0\n",
    "\n",
    "    for line in relevance_total:\n",
    "        for rank in range(len(line)):\n",
    "            if line[rank] == True:\n",
    "                total_score = total_score + 1 / (rank + 1)\n",
    "\n",
    "    return total_score / len(relevance_total)"
   ]
  },
  {
   "cell_type": "code",
   "execution_count": null,
   "id": "360c6285-cd85-43e2-9138-5569cb18621d",
   "metadata": {},
   "outputs": [],
   "source": []
  },
  {
   "cell_type": "code",
   "execution_count": null,
   "id": "57d0f116-80d2-4a5b-a39c-e27677c44fac",
   "metadata": {},
   "outputs": [],
   "source": []
  },
  {
   "cell_type": "code",
   "execution_count": null,
   "id": "beec0111-aade-447e-9dd5-47507048896d",
   "metadata": {},
   "outputs": [],
   "source": []
  },
  {
   "cell_type": "code",
   "execution_count": null,
   "id": "ecf173c4-db4a-4ea6-bca7-e0e036cd0ba5",
   "metadata": {},
   "outputs": [],
   "source": [
    "def question_vector_knn(q):\n",
    "    question = q['Question']\n",
    "\n",
    "    # Encode the question using the model to get the vector representation\n",
    "    v_q = model.encode(question)\n",
    "\n",
    "    # Call the elastic_search_knn function\n",
    "    return elastic_search_knn('question_vector', v_q)"
   ]
  },
  {
   "cell_type": "code",
   "execution_count": 20,
   "id": "e533af4e-b4b1-4c07-bba4-6a35c4c2bc0a",
   "metadata": {},
   "outputs": [],
   "source": [
    "def evaluate(ground_truth, search_function):\n",
    "    relevance_total = []\n",
    "\n",
    "    for q in tqdm(ground_truth):\n",
    "        doc_id = q['Document']\n",
    "        results = search_function(q)\n",
    "        relevance = [d['doc_id'] == doc_id for d in results]\n",
    "        relevance_total.append(relevance)\n",
    "\n",
    "    return {\n",
    "        'hit_rate': hit_rate(relevance_total),\n",
    "        'mrr': mrr(relevance_total),\n",
    "    }"
   ]
  },
  {
   "cell_type": "code",
   "execution_count": 21,
   "id": "f4796129-7095-4af3-b7c5-0b43966df9fa",
   "metadata": {},
   "outputs": [
    {
     "data": {
      "application/vnd.jupyter.widget-view+json": {
       "model_id": "97d7173ff0e548ba9b2ac027d15beead",
       "version_major": 2,
       "version_minor": 0
      },
      "text/plain": [
       "  0%|          | 0/1300 [00:00<?, ?it/s]"
      ]
     },
     "metadata": {},
     "output_type": "display_data"
    },
    {
     "data": {
      "text/plain": [
       "{'hit_rate': 0.8153846153846154, 'mrr': 0.6719871794871807}"
      ]
     },
     "execution_count": 21,
     "metadata": {},
     "output_type": "execute_result"
    }
   ],
   "source": [
    "evaluate(ground_truth, question_vector_knn)"
   ]
  },
  {
   "cell_type": "code",
   "execution_count": null,
   "id": "b556cc25-32ef-4a23-a462-f826eb849341",
   "metadata": {},
   "outputs": [],
   "source": []
  },
  {
   "cell_type": "code",
   "execution_count": null,
   "id": "cd4b69c5-5f44-4ed3-b6ac-2a5f5c739eb0",
   "metadata": {},
   "outputs": [],
   "source": []
  },
  {
   "cell_type": "code",
   "execution_count": 27,
   "id": "0d89524e-1cae-49b5-9859-9b4902b866ce",
   "metadata": {},
   "outputs": [],
   "source": [
    "def answer_vector_knn(q):\n",
    "    question = q['Question']\n",
    "    v_q = model.encode(question)\n",
    "    return elastic_search_knn('text_vector', v_q)"
   ]
  },
  {
   "cell_type": "code",
   "execution_count": 28,
   "id": "98d922e4-5c9d-46b1-b5a3-64062a9dfdd6",
   "metadata": {},
   "outputs": [
    {
     "data": {
      "application/vnd.jupyter.widget-view+json": {
       "model_id": "b2d85d2a998b4d0097fec334c9f9a1ae",
       "version_major": 2,
       "version_minor": 0
      },
      "text/plain": [
       "  0%|          | 0/1300 [00:00<?, ?it/s]"
      ]
     },
     "metadata": {},
     "output_type": "display_data"
    },
    {
     "data": {
      "text/plain": [
       "{'hit_rate': 0.9, 'mrr': 0.7621410256410267}"
      ]
     },
     "execution_count": 28,
     "metadata": {},
     "output_type": "execute_result"
    }
   ],
   "source": [
    "evaluate(ground_truth, answer_vector_knn)"
   ]
  },
  {
   "cell_type": "code",
   "execution_count": null,
   "id": "17fa2a4e-4539-4be3-a27a-280222c41528",
   "metadata": {},
   "outputs": [],
   "source": []
  },
  {
   "cell_type": "code",
   "execution_count": null,
   "id": "e452d21d-896e-405f-bc47-405fd9eb2c38",
   "metadata": {},
   "outputs": [],
   "source": []
  },
  {
   "cell_type": "code",
   "execution_count": 31,
   "id": "7f01c610-113b-46b5-ad64-2f3f626ebe91",
   "metadata": {},
   "outputs": [],
   "source": [
    "def elastic_search_knn_combined(vector):\n",
    "    search_query = {\n",
    "        \"size\": 5,  # Limit to 5 results\n",
    "        \"query\": {\n",
    "            \"script_score\": {\n",
    "                \"query\": {\n",
    "                    \"match_all\": {}  # Use match_all for the base query\n",
    "                },\n",
    "                \"script\": {\n",
    "                    \"source\": \"\"\"\n",
    "                        cosineSimilarity(params.query_vector, 'question_vector') + \n",
    "                        cosineSimilarity(params.query_vector, 'text_vector') + \n",
    "                        cosineSimilarity(params.query_vector, 'question_text_vector') + \n",
    "                        1\n",
    "                    \"\"\",  # Cosine similarity for the provided vectors\n",
    "                    \"params\": {\n",
    "                        \"query_vector\": vector  # Pass the query vector\n",
    "                    }\n",
    "                }\n",
    "            }\n",
    "        },\n",
    "        \"_source\": [\"Answer\", \"Category\", \"Question\", \"doc_id\"]  # Return the specified fields\n",
    "    }\n",
    "\n",
    "    # Execute the query against Elasticsearch\n",
    "    es_results = es_client.search(\n",
    "        index=index_name,\n",
    "        body=search_query\n",
    "    )\n",
    "    \n",
    "    # Process the results\n",
    "    result_docs = []\n",
    "    for hit in es_results['hits']['hits']:\n",
    "        result_docs.append(hit['_source'])\n",
    "\n",
    "    return result_docs\n"
   ]
  },
  {
   "cell_type": "code",
   "execution_count": 32,
   "id": "ca2c6cc2-aafc-47ba-96bf-b1a7fba0a478",
   "metadata": {},
   "outputs": [
    {
     "data": {
      "application/vnd.jupyter.widget-view+json": {
       "model_id": "ed184c8caaf64d5e9f1d1d2b25edda2e",
       "version_major": 2,
       "version_minor": 0
      },
      "text/plain": [
       "  0%|          | 0/1300 [00:00<?, ?it/s]"
      ]
     },
     "metadata": {},
     "output_type": "display_data"
    },
    {
     "data": {
      "text/plain": [
       "{'hit_rate': 0.8815384615384615, 'mrr': 0.7472564102564111}"
      ]
     },
     "execution_count": 32,
     "metadata": {},
     "output_type": "execute_result"
    }
   ],
   "source": [
    "def vector_combined_knn(q):\n",
    "    question = q['Question']\n",
    "    v_q = model.encode(question)\n",
    "    return elastic_search_knn_combined(v_q)\n",
    "\n",
    "evaluate(ground_truth, vector_combined_knn)"
   ]
  },
  {
   "cell_type": "code",
   "execution_count": null,
   "id": "d171ccf3-8379-486e-92fe-b55a49c43425",
   "metadata": {},
   "outputs": [],
   "source": []
  },
  {
   "cell_type": "markdown",
   "id": "4c77b9e1-7fb1-4ebd-bb30-7b6bb26b7926",
   "metadata": {},
   "source": []
  },
  {
   "cell_type": "code",
   "execution_count": 33,
   "id": "330b2bb0-9131-45c3-8392-e6175305a276",
   "metadata": {},
   "outputs": [],
   "source": []
  },
  {
   "cell_type": "code",
   "execution_count": null,
   "id": "84a30444-8a14-4c3f-ba20-f3efb6bd670a",
   "metadata": {},
   "outputs": [],
   "source": []
  },
  {
   "cell_type": "code",
   "execution_count": null,
   "id": "f87dbec6-8b82-4f1e-8ec8-92284d5a6125",
   "metadata": {},
   "outputs": [],
   "source": []
  },
  {
   "cell_type": "code",
   "execution_count": null,
   "id": "f3acac3a-56ae-40e4-9942-0427e5be3fa9",
   "metadata": {},
   "outputs": [],
   "source": []
  },
  {
   "cell_type": "code",
   "execution_count": null,
   "id": "bc9a4bbf-33a8-446a-9fb0-cb9e873e6b1d",
   "metadata": {},
   "outputs": [],
   "source": []
  },
  {
   "cell_type": "code",
   "execution_count": null,
   "id": "7a9f9981-06f8-4652-813b-437062e9a4d2",
   "metadata": {},
   "outputs": [],
   "source": []
  },
  {
   "cell_type": "code",
   "execution_count": null,
   "id": "0999af26-f665-425a-b8cb-8250c6d7aca4",
   "metadata": {},
   "outputs": [],
   "source": []
  },
  {
   "cell_type": "markdown",
   "id": "cb766be5-6c40-477e-906d-a0f8d3d5d69a",
   "metadata": {},
   "source": []
  },
  {
   "cell_type": "markdown",
   "id": "0af4b537-810f-4aea-9345-ebf01b9328a3",
   "metadata": {},
   "source": []
  }
 ],
 "metadata": {
  "kernelspec": {
   "display_name": "Python 3 (ipykernel)",
   "language": "python",
   "name": "python3"
  },
  "language_info": {
   "codemirror_mode": {
    "name": "ipython",
    "version": 3
   },
   "file_extension": ".py",
   "mimetype": "text/x-python",
   "name": "python",
   "nbconvert_exporter": "python",
   "pygments_lexer": "ipython3",
   "version": "3.10.13"
  }
 },
 "nbformat": 4,
 "nbformat_minor": 5
}
