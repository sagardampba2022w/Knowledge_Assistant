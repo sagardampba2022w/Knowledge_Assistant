{
 "cells": [
  {
   "cell_type": "markdown",
   "id": "6e6e34ea-cab8-40de-a1fd-e03ade25f113",
   "metadata": {},
   "source": [
    "# Loading groundtruth"
   ]
  },
  {
   "cell_type": "code",
   "execution_count": 1,
   "id": "c51dfc74-8276-41f3-b2f6-ec3c65a26942",
   "metadata": {},
   "outputs": [
    {
     "data": {
      "text/html": [
       "<div>\n",
       "<style scoped>\n",
       "    .dataframe tbody tr th:only-of-type {\n",
       "        vertical-align: middle;\n",
       "    }\n",
       "\n",
       "    .dataframe tbody tr th {\n",
       "        vertical-align: top;\n",
       "    }\n",
       "\n",
       "    .dataframe thead th {\n",
       "        text-align: right;\n",
       "    }\n",
       "</style>\n",
       "<table border=\"1\" class=\"dataframe\">\n",
       "  <thead>\n",
       "    <tr style=\"text-align: right;\">\n",
       "      <th></th>\n",
       "      <th>Category</th>\n",
       "      <th>Question</th>\n",
       "      <th>Answer</th>\n",
       "    </tr>\n",
       "  </thead>\n",
       "  <tbody>\n",
       "    <tr>\n",
       "      <th>0</th>\n",
       "      <td>General Information</td>\n",
       "      <td>What is syndicated research?</td>\n",
       "      <td>Syndicated research is a type of market resear...</td>\n",
       "    </tr>\n",
       "    <tr>\n",
       "      <th>1</th>\n",
       "      <td>General Information</td>\n",
       "      <td>How often is the data updated?</td>\n",
       "      <td>The data is typically updated on a monthly bas...</td>\n",
       "    </tr>\n",
       "    <tr>\n",
       "      <th>2</th>\n",
       "      <td>General Information</td>\n",
       "      <td>What FMCG categories are covered in this resea...</td>\n",
       "      <td>The research covers a wide range of FMCG categ...</td>\n",
       "    </tr>\n",
       "    <tr>\n",
       "      <th>3</th>\n",
       "      <td>General Information</td>\n",
       "      <td>Who can benefit from this syndicated research?</td>\n",
       "      <td>This research is valuable for FMCG manufacture...</td>\n",
       "    </tr>\n",
       "    <tr>\n",
       "      <th>4</th>\n",
       "      <td>General Information</td>\n",
       "      <td>What geographic regions are covered in this re...</td>\n",
       "      <td>The research includes data from North America,...</td>\n",
       "    </tr>\n",
       "  </tbody>\n",
       "</table>\n",
       "</div>"
      ],
      "text/plain": [
       "              Category                                           Question  \\\n",
       "0  General Information                       What is syndicated research?   \n",
       "1  General Information                     How often is the data updated?   \n",
       "2  General Information  What FMCG categories are covered in this resea...   \n",
       "3  General Information     Who can benefit from this syndicated research?   \n",
       "4  General Information  What geographic regions are covered in this re...   \n",
       "\n",
       "                                              Answer  \n",
       "0  Syndicated research is a type of market resear...  \n",
       "1  The data is typically updated on a monthly bas...  \n",
       "2  The research covers a wide range of FMCG categ...  \n",
       "3  This research is valuable for FMCG manufacture...  \n",
       "4  The research includes data from North America,...  "
      ]
     },
     "execution_count": 1,
     "metadata": {},
     "output_type": "execute_result"
    }
   ],
   "source": [
    "import requests\n",
    "import pandas as pd\n",
    "\n",
    "data = pd.read_csv('data.csv', sep=',')\n",
    "\n",
    "data.head()"
   ]
  },
  {
   "cell_type": "markdown",
   "id": "5114c24e-85e5-4034-b171-3d0084a1b72a",
   "metadata": {},
   "source": [
    "# Adding unique ID for each document"
   ]
  },
  {
   "cell_type": "code",
   "execution_count": 2,
   "id": "efc45243-0475-4f65-8852-4eb0a700ee96",
   "metadata": {},
   "outputs": [
    {
     "data": {
      "text/html": [
       "<div>\n",
       "<style scoped>\n",
       "    .dataframe tbody tr th:only-of-type {\n",
       "        vertical-align: middle;\n",
       "    }\n",
       "\n",
       "    .dataframe tbody tr th {\n",
       "        vertical-align: top;\n",
       "    }\n",
       "\n",
       "    .dataframe thead th {\n",
       "        text-align: right;\n",
       "    }\n",
       "</style>\n",
       "<table border=\"1\" class=\"dataframe\">\n",
       "  <thead>\n",
       "    <tr style=\"text-align: right;\">\n",
       "      <th></th>\n",
       "      <th>Category</th>\n",
       "      <th>Question</th>\n",
       "      <th>Answer</th>\n",
       "      <th>doc_id</th>\n",
       "    </tr>\n",
       "  </thead>\n",
       "  <tbody>\n",
       "    <tr>\n",
       "      <th>0</th>\n",
       "      <td>General Information</td>\n",
       "      <td>What is syndicated research?</td>\n",
       "      <td>Syndicated research is a type of market resear...</td>\n",
       "      <td>2dd9200a</td>\n",
       "    </tr>\n",
       "    <tr>\n",
       "      <th>1</th>\n",
       "      <td>General Information</td>\n",
       "      <td>How often is the data updated?</td>\n",
       "      <td>The data is typically updated on a monthly bas...</td>\n",
       "      <td>1f0a30a7</td>\n",
       "    </tr>\n",
       "    <tr>\n",
       "      <th>2</th>\n",
       "      <td>General Information</td>\n",
       "      <td>What FMCG categories are covered in this resea...</td>\n",
       "      <td>The research covers a wide range of FMCG categ...</td>\n",
       "      <td>a899e27a</td>\n",
       "    </tr>\n",
       "    <tr>\n",
       "      <th>3</th>\n",
       "      <td>General Information</td>\n",
       "      <td>Who can benefit from this syndicated research?</td>\n",
       "      <td>This research is valuable for FMCG manufacture...</td>\n",
       "      <td>219af693</td>\n",
       "    </tr>\n",
       "    <tr>\n",
       "      <th>4</th>\n",
       "      <td>General Information</td>\n",
       "      <td>What geographic regions are covered in this re...</td>\n",
       "      <td>The research includes data from North America,...</td>\n",
       "      <td>d7826b0e</td>\n",
       "    </tr>\n",
       "  </tbody>\n",
       "</table>\n",
       "</div>"
      ],
      "text/plain": [
       "              Category                                           Question  \\\n",
       "0  General Information                       What is syndicated research?   \n",
       "1  General Information                     How often is the data updated?   \n",
       "2  General Information  What FMCG categories are covered in this resea...   \n",
       "3  General Information     Who can benefit from this syndicated research?   \n",
       "4  General Information  What geographic regions are covered in this re...   \n",
       "\n",
       "                                              Answer    doc_id  \n",
       "0  Syndicated research is a type of market resear...  2dd9200a  \n",
       "1  The data is typically updated on a monthly bas...  1f0a30a7  \n",
       "2  The research covers a wide range of FMCG categ...  a899e27a  \n",
       "3  This research is valuable for FMCG manufacture...  219af693  \n",
       "4  The research includes data from North America,...  d7826b0e  "
      ]
     },
     "execution_count": 2,
     "metadata": {},
     "output_type": "execute_result"
    }
   ],
   "source": [
    "import pandas as pd\n",
    "import hashlib\n",
    "\n",
    "\n",
    "# Function to create a hash for each row\n",
    "def create_doc_id(row):\n",
    "    # Concatenate the row data into a single string (you can customize which columns to include)\n",
    "    row_string = ''.join(row.astype(str))\n",
    "    \n",
    "    # Generate a SHA-256 hash of the concatenated string (but only picks first 8 digits for a shorted id)\n",
    "    return hashlib.sha256(row_string.encode()).hexdigest()[:8]\n",
    "\n",
    "# Apply the function to each row to create a 'doc_id' column\n",
    "data['doc_id'] = data.apply(create_doc_id, axis=1)\n",
    "\n",
    "data.head()\n",
    "\n"
   ]
  },
  {
   "cell_type": "code",
   "execution_count": 3,
   "id": "9d2d8dcf-7855-4598-9cea-d0d5d07b4605",
   "metadata": {},
   "outputs": [
    {
     "data": {
      "text/plain": [
       "{'Category': 'General Information',\n",
       " 'Question': 'What is syndicated research?',\n",
       " 'Answer': 'Syndicated research is a type of market research where data and findings are collected and compiled by a research agency and then sold to multiple clients. It provides insights into consumer behavior, market trends, and product performance across various FMCG categories.',\n",
       " 'doc_id': '2dd9200a'}"
      ]
     },
     "execution_count": 3,
     "metadata": {},
     "output_type": "execute_result"
    }
   ],
   "source": [
    "final_data = data.to_dict(orient='records')\n",
    "final_data[0]"
   ]
  },
  {
   "cell_type": "code",
   "execution_count": 4,
   "id": "3a3339ca-4ff2-479b-a1f6-ce18c75bed90",
   "metadata": {},
   "outputs": [],
   "source": [
    "prompt_template = \"\"\"\n",
    "You emulate a client who wants to know more about the syndicated research coverage by a company.\n",
    "Formulate 5 questions this client might ask based on a FAQ record. The record\n",
    "should contain the answer to the questions, and the questions should be complete and not too short.\n",
    "If possible, use as fewer words as possible from the record. \n",
    "\n",
    "The record:\n",
    "\n",
    "category: {Category}\n",
    "question: {Question}\n",
    "answer: {Answer}\n",
    "\n",
    "Provide the output in parsable JSON without using code blocks:\n",
    "\n",
    "[\"question1\", \"question2\", ..., \"question5\"]\n",
    "\"\"\".strip()"
   ]
  },
  {
   "cell_type": "code",
   "execution_count": 5,
   "id": "905e6a52-be47-4ee2-85a5-a425b5a25af4",
   "metadata": {},
   "outputs": [
    {
     "data": {
      "text/plain": [
       "'You emulate a client who wants to know more about the syndicated research coverage by a company.\\nFormulate 5 questions this client might ask based on a FAQ record. The record\\nshould contain the answer to the questions, and the questions should be complete and not too short.\\nIf possible, use as fewer words as possible from the record. \\n\\nThe record:\\n\\ncategory: General Information\\nquestion: What is syndicated research?\\nanswer: Syndicated research is a type of market research where data and findings are collected and compiled by a research agency and then sold to multiple clients. It provides insights into consumer behavior, market trends, and product performance across various FMCG categories.\\n\\nProvide the output in parsable JSON without using code blocks:\\n\\n[\"question1\", \"question2\", ..., \"question5\"]'"
      ]
     },
     "execution_count": 5,
     "metadata": {},
     "output_type": "execute_result"
    }
   ],
   "source": [
    "prompt_template.format(**final_data[0])"
   ]
  },
  {
   "cell_type": "code",
   "execution_count": 12,
   "id": "cced53ad-a4dd-45f9-a184-aabbc5afc59f",
   "metadata": {},
   "outputs": [
    {
     "data": {
      "text/plain": [
       "{'Category': 'General Information',\n",
       " 'Question': 'What is syndicated research?',\n",
       " 'Answer': 'Syndicated research is a type of market research where data and findings are collected and compiled by a research agency and then sold to multiple clients. It provides insights into consumer behavior, market trends, and product performance across various FMCG categories.',\n",
       " 'doc_id': '2dd9200a'}"
      ]
     },
     "execution_count": 12,
     "metadata": {},
     "output_type": "execute_result"
    }
   ],
   "source": [
    "final_data[0]"
   ]
  },
  {
   "cell_type": "markdown",
   "id": "3ee6d7b5-06d3-48f3-99bb-1e6c6414504a",
   "metadata": {},
   "source": [
    "# Using Open AI to generate 5 questions for each record"
   ]
  },
  {
   "cell_type": "code",
   "execution_count": 6,
   "id": "89abee90-0383-42d9-a8c8-41540a559e52",
   "metadata": {},
   "outputs": [],
   "source": [
    "#pip install typing_extensions"
   ]
  },
  {
   "cell_type": "markdown",
   "id": "72437fc8-09b0-48d4-b68b-8dfa272a65c7",
   "metadata": {},
   "source": [
    "\n",
    "import os\n",
    "import time\n",
    "import json\n",
    "import requests\n",
    "from pprint import pprint\n",
    "from typing import Iterator\n",
    "from openai import AzureOpenAI\n",
    "\n",
    "  \n",
    "os.environ[\"AZURE_OPENAI_ENDPOINT\"] = \"\"\n",
    "os.environ[\"AZURE_OPENAI_API_KEY\"] = \"\"\n",
    "\n",
    "model=\"MSRP_GPT4_0Mini\"\n",
    " \n",
    "\n",
    "client = AzureOpenAI(\n",
    "    azure_endpoint = os.getenv(\"AZURE_OPENAI_ENDPOINT\"),\n",
    "    api_key= os.getenv(\"AZURE_OPENAI_API_KEY\"),\n",
    "    api_version=\"2024-05-01-preview\"\n",
    ")\n",
    "\n"
   ]
  },
  {
   "cell_type": "code",
   "execution_count": null,
   "id": "d227d933-b774-4951-9983-096b25659025",
   "metadata": {},
   "outputs": [],
   "source": []
  },
  {
   "cell_type": "code",
   "execution_count": 13,
   "id": "de206e77-22d1-41a0-bc37-d8a882e9ee92",
   "metadata": {},
   "outputs": [],
   "source": [
    "def generate_questions(doc):\n",
    "    prompt = prompt_template.format(**doc)\n",
    "\n",
    "    response = client.chat.completions.create(\n",
    "        model=model,\n",
    "        messages=[{\"role\": \"user\", \"content\": prompt}]\n",
    "    )\n",
    "\n",
    "    json_response = response.choices[0].message.content\n",
    "    return json_response"
   ]
  },
  {
   "cell_type": "markdown",
   "id": "bf2f3560-152a-4dbb-8695-8be0cf6dd98c",
   "metadata": {},
   "source": [
    "#### Testing one one record"
   ]
  },
  {
   "cell_type": "code",
   "execution_count": 15,
   "id": "ad946693-007f-4e7e-a224-c275348bff80",
   "metadata": {},
   "outputs": [
    {
     "data": {
      "text/plain": [
       "{'Category': 'General Information',\n",
       " 'Question': 'What is syndicated research?',\n",
       " 'Answer': 'Syndicated research is a type of market research where data and findings are collected and compiled by a research agency and then sold to multiple clients. It provides insights into consumer behavior, market trends, and product performance across various FMCG categories.',\n",
       " 'doc_id': '2dd9200a'}"
      ]
     },
     "execution_count": 15,
     "metadata": {},
     "output_type": "execute_result"
    }
   ],
   "source": [
    "final_data[0]"
   ]
  },
  {
   "cell_type": "code",
   "execution_count": 16,
   "id": "4be33a3a-d685-4ba1-80f5-712a483587c1",
   "metadata": {},
   "outputs": [
    {
     "data": {
      "text/plain": [
       "'[\\n    \"Can you explain what syndicated research entails?\",\\n    \"How is the data in syndicated research collected and compiled?\",\\n    \"Who typically benefits from syndicated research services?\",\\n    \"What kind of insights can I expect from syndicated research?\",\\n    \"In which categories does syndicated research provide market analysis?\"\\n]'"
      ]
     },
     "execution_count": 16,
     "metadata": {},
     "output_type": "execute_result"
    }
   ],
   "source": [
    "generate_questions(final_data[0])"
   ]
  },
  {
   "cell_type": "code",
   "execution_count": null,
   "id": "d6c766d2-ef5f-4a17-90bf-791ea6693e36",
   "metadata": {},
   "outputs": [],
   "source": [
    "# Now generating for all records"
   ]
  },
  {
   "cell_type": "code",
   "execution_count": 9,
   "id": "110035df-7fa6-47bf-9295-56e53f910c93",
   "metadata": {},
   "outputs": [],
   "source": [
    "from tqdm.auto import tqdm"
   ]
  },
  {
   "cell_type": "code",
   "execution_count": 17,
   "id": "3dfa2f3d-5e37-4366-848d-fce710278452",
   "metadata": {},
   "outputs": [
    {
     "data": {
      "application/vnd.jupyter.widget-view+json": {
       "model_id": "387624c9a1fd4017a5e9c69720e0ddad",
       "version_major": 2,
       "version_minor": 0
      },
      "text/plain": [
       "  0%|          | 0/260 [00:00<?, ?it/s]"
      ]
     },
     "metadata": {},
     "output_type": "display_data"
    }
   ],
   "source": [
    "results = {}\n",
    "\n",
    "for doc in tqdm(final_data): \n",
    "    doc_id = doc['doc_id']\n",
    "    if doc_id in results:\n",
    "        continue\n",
    "\n",
    "    questions = generate_questions(doc)\n",
    "    results[doc_id] = questions"
   ]
  },
  {
   "cell_type": "code",
   "execution_count": 18,
   "id": "4301a445-97c3-48db-ad94-5ed5f84b08d1",
   "metadata": {},
   "outputs": [
    {
     "data": {
      "text/plain": [
       "260"
      ]
     },
     "execution_count": 18,
     "metadata": {},
     "output_type": "execute_result"
    }
   ],
   "source": [
    "len(results)"
   ]
  },
  {
   "cell_type": "code",
   "execution_count": 20,
   "id": "63e3fc99-9576-46c8-a1db-3bda6c5149ff",
   "metadata": {},
   "outputs": [],
   "source": [
    "import pickle\n",
    "\n",
    "# Save the results dictionary to a file\n",
    "with open('results.bin', 'wb') as f_out:\n",
    "    pickle.dump(results, f_out)\n"
   ]
  },
  {
   "cell_type": "code",
   "execution_count": 21,
   "id": "62ac4bd7-2550-4ab7-bdad-cee6e9ff8972",
   "metadata": {},
   "outputs": [],
   "source": [
    "#import pickle\n",
    "with open('results.bin', 'rb') as f_in:\n",
    "    results = pickle.load(f_in)"
   ]
  },
  {
   "cell_type": "code",
   "execution_count": 25,
   "id": "0b71f85f-4a69-490e-aeb1-de2fffc58d31",
   "metadata": {},
   "outputs": [],
   "source": [
    "parsed_results = {}\n",
    "\n",
    "for doc_id, json_questions in results.items():\n",
    "    parsed_results[doc_id] = json.loads(json_questions)"
   ]
  },
  {
   "cell_type": "code",
   "execution_count": 28,
   "id": "5a992998-5833-454d-af9f-f4199b5b9d3d",
   "metadata": {},
   "outputs": [
    {
     "data": {
      "text/plain": [
       "['Can you explain what syndicated research entails and how it is conducted?',\n",
       " 'Who typically benefits from syndicated research findings within the market?',\n",
       " 'What kind of insights can one expect to gain from syndicated research?',\n",
       " 'Is syndicated research limited to specific industries or product categories?',\n",
       " 'How does syndicated research differ from custom research tailored for a single client?']"
      ]
     },
     "execution_count": 28,
     "metadata": {},
     "output_type": "execute_result"
    }
   ],
   "source": [
    "parsed_results['2dd9200a']"
   ]
  },
  {
   "cell_type": "code",
   "execution_count": 29,
   "id": "163f32ac-7316-4ba7-8b61-79db6e52c20a",
   "metadata": {},
   "outputs": [],
   "source": [
    "doc_index = {d['doc_id']: d for d in final_data}"
   ]
  },
  {
   "cell_type": "code",
   "execution_count": 33,
   "id": "cfe80f28-1628-4b5b-9203-93984da62ab3",
   "metadata": {},
   "outputs": [
    {
     "data": {
      "text/plain": [
       "{'Category': 'General Information',\n",
       " 'Question': 'What is syndicated research?',\n",
       " 'Answer': 'Syndicated research is a type of market research where data and findings are collected and compiled by a research agency and then sold to multiple clients. It provides insights into consumer behavior, market trends, and product performance across various FMCG categories.',\n",
       " 'doc_id': '2dd9200a'}"
      ]
     },
     "execution_count": 33,
     "metadata": {},
     "output_type": "execute_result"
    }
   ],
   "source": [
    "doc_index['2dd9200a']"
   ]
  },
  {
   "cell_type": "code",
   "execution_count": 36,
   "id": "d2666fb1-b3ff-4ca3-aae0-2a08eba979bc",
   "metadata": {},
   "outputs": [],
   "source": [
    "final_results = []\n",
    "\n",
    "for doc_id, questions in parsed_results.items():\n",
    "    Category = doc_index[doc_id]['Category']\n",
    "    for q in questions:\n",
    "        final_results.append((q, Category, doc_id))"
   ]
  },
  {
   "cell_type": "code",
   "execution_count": 46,
   "id": "60f790fd-c0ad-4481-a9a3-ab36f7c4b994",
   "metadata": {},
   "outputs": [
    {
     "data": {
      "text/html": [
       "<div>\n",
       "<style scoped>\n",
       "    .dataframe tbody tr th:only-of-type {\n",
       "        vertical-align: middle;\n",
       "    }\n",
       "\n",
       "    .dataframe tbody tr th {\n",
       "        vertical-align: top;\n",
       "    }\n",
       "\n",
       "    .dataframe thead th {\n",
       "        text-align: right;\n",
       "    }\n",
       "</style>\n",
       "<table border=\"1\" class=\"dataframe\">\n",
       "  <thead>\n",
       "    <tr style=\"text-align: right;\">\n",
       "      <th></th>\n",
       "      <th>Question</th>\n",
       "      <th>Category</th>\n",
       "      <th>Document</th>\n",
       "    </tr>\n",
       "  </thead>\n",
       "  <tbody>\n",
       "    <tr>\n",
       "      <th>0</th>\n",
       "      <td>Can you explain what syndicated research entai...</td>\n",
       "      <td>General Information</td>\n",
       "      <td>2dd9200a</td>\n",
       "    </tr>\n",
       "    <tr>\n",
       "      <th>1</th>\n",
       "      <td>Who typically benefits from syndicated researc...</td>\n",
       "      <td>General Information</td>\n",
       "      <td>2dd9200a</td>\n",
       "    </tr>\n",
       "    <tr>\n",
       "      <th>2</th>\n",
       "      <td>What kind of insights can one expect to gain f...</td>\n",
       "      <td>General Information</td>\n",
       "      <td>2dd9200a</td>\n",
       "    </tr>\n",
       "    <tr>\n",
       "      <th>3</th>\n",
       "      <td>Is syndicated research limited to specific ind...</td>\n",
       "      <td>General Information</td>\n",
       "      <td>2dd9200a</td>\n",
       "    </tr>\n",
       "    <tr>\n",
       "      <th>4</th>\n",
       "      <td>How does syndicated research differ from custo...</td>\n",
       "      <td>General Information</td>\n",
       "      <td>2dd9200a</td>\n",
       "    </tr>\n",
       "  </tbody>\n",
       "</table>\n",
       "</div>"
      ],
      "text/plain": [
       "                                            Question             Category  \\\n",
       "0  Can you explain what syndicated research entai...  General Information   \n",
       "1  Who typically benefits from syndicated researc...  General Information   \n",
       "2  What kind of insights can one expect to gain f...  General Information   \n",
       "3  Is syndicated research limited to specific ind...  General Information   \n",
       "4  How does syndicated research differ from custo...  General Information   \n",
       "\n",
       "   Document  \n",
       "0  2dd9200a  \n",
       "1  2dd9200a  \n",
       "2  2dd9200a  \n",
       "3  2dd9200a  \n",
       "4  2dd9200a  "
      ]
     },
     "execution_count": 46,
     "metadata": {},
     "output_type": "execute_result"
    }
   ],
   "source": [
    "import pandas as pd\n",
    "df = pd.DataFrame(final_results, columns=['Question', 'Category', 'Document'])\n",
    "\n",
    "df.head()"
   ]
  },
  {
   "cell_type": "code",
   "execution_count": 47,
   "id": "332323c5-9430-4a9c-ad7c-55c02547267f",
   "metadata": {},
   "outputs": [
    {
     "data": {
      "text/plain": [
       "(1300, 3)"
      ]
     },
     "execution_count": 47,
     "metadata": {},
     "output_type": "execute_result"
    }
   ],
   "source": [
    "df.shape"
   ]
  },
  {
   "cell_type": "code",
   "execution_count": 48,
   "id": "8d602692-4c7e-460f-bb5a-4be493b04061",
   "metadata": {},
   "outputs": [
    {
     "name": "stdout",
     "output_type": "stream",
     "text": [
      "Question,Category,Document\n",
      "Can you explain what syndicated research entails and how it is conducted?,General Information,2dd9200a\n",
      "Who typically benefits from syndicated research findings within the market?,General Information,2dd9200a\n",
      "What kind of insights can one expect to gain from syndicated research?,General Information,2dd9200a\n",
      "Is syndicated research limited to specific industries or product categories?,General Information,2dd9200a\n",
      "How does syndicated research differ from custom research tailored for a single client?,General Information,2dd9200a\n",
      "What is the frequency of data updates for the research coverage?,General Information,1f0a30a7\n",
      "Are there any quarterly or annual summaries provided in addition to the monthly updates?,General Information,1f0a30a7\n",
      "Can you explain if real-time updates are part of any subscription options?,General Information,1f0a30a7\n",
      "Does the subscription level affect how often the data is refreshed?,General Information,1f0a30a7\n"
     ]
    }
   ],
   "source": [
    "df.to_csv('ground_truth_data.csv', index=False)\n",
    "\n",
    "\n",
    "#!head ground_truth_data.csv\n"
   ]
  }
 ],
 "metadata": {
  "kernelspec": {
   "display_name": "Python 3 (ipykernel)",
   "language": "python",
   "name": "python3"
  },
  "language_info": {
   "codemirror_mode": {
    "name": "ipython",
    "version": 3
   },
   "file_extension": ".py",
   "mimetype": "text/x-python",
   "name": "python",
   "nbconvert_exporter": "python",
   "pygments_lexer": "ipython3",
   "version": "3.8.5"
  }
 },
 "nbformat": 4,
 "nbformat_minor": 5
}
