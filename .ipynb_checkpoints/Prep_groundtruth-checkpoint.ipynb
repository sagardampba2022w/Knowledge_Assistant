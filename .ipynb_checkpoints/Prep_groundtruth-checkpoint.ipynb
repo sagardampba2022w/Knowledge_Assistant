{
 "cells": [
  {
   "cell_type": "markdown",
   "id": "6e6e34ea-cab8-40de-a1fd-e03ade25f113",
   "metadata": {},
   "source": [
    "# Loading groundtruth"
   ]
  },
  {
   "cell_type": "code",
   "execution_count": 37,
   "id": "c51dfc74-8276-41f3-b2f6-ec3c65a26942",
   "metadata": {},
   "outputs": [
    {
     "data": {
      "text/html": [
       "<div>\n",
       "<style scoped>\n",
       "    .dataframe tbody tr th:only-of-type {\n",
       "        vertical-align: middle;\n",
       "    }\n",
       "\n",
       "    .dataframe tbody tr th {\n",
       "        vertical-align: top;\n",
       "    }\n",
       "\n",
       "    .dataframe thead th {\n",
       "        text-align: right;\n",
       "    }\n",
       "</style>\n",
       "<table border=\"1\" class=\"dataframe\">\n",
       "  <thead>\n",
       "    <tr style=\"text-align: right;\">\n",
       "      <th></th>\n",
       "      <th>Category</th>\n",
       "      <th>Question</th>\n",
       "      <th>Answer</th>\n",
       "    </tr>\n",
       "  </thead>\n",
       "  <tbody>\n",
       "    <tr>\n",
       "      <th>0</th>\n",
       "      <td>General Information</td>\n",
       "      <td>What is syndicated research?</td>\n",
       "      <td>Syndicated research is a type of market research where data and findings are collected and compiled by a research agency and then sold to multiple clients. It provides insights into consumer behavior, market trends, and product performance across various FMCG categories.</td>\n",
       "    </tr>\n",
       "    <tr>\n",
       "      <th>1</th>\n",
       "      <td>General Information</td>\n",
       "      <td>How often is the data updated?</td>\n",
       "      <td>The data is typically updated on a monthly basis, with quarterly and annual summaries available. Real-time or weekly updates may also be available depending on the subscription level.</td>\n",
       "    </tr>\n",
       "    <tr>\n",
       "      <th>2</th>\n",
       "      <td>General Information</td>\n",
       "      <td>What FMCG categories are covered in this research?</td>\n",
       "      <td>The research covers a wide range of FMCG categories, including: Food and Beverages (e.g., Snacks, soft drinks, dairy products), Personal Care (e.g., Skincare, haircare, oral care products), Household Cleaning (e.g., Detergents, surface cleaners, disinfectants), and Over-the-Counter Pharmaceuticals (e.g., Pain relievers, vitamins, supplements).</td>\n",
       "    </tr>\n",
       "    <tr>\n",
       "      <th>3</th>\n",
       "      <td>General Information</td>\n",
       "      <td>Who can benefit from this syndicated research?</td>\n",
       "      <td>This research is valuable for FMCG manufacturers, retailers, marketing agencies, and financial analysts looking to understand market dynamics, consumer preferences, and product performance.</td>\n",
       "    </tr>\n",
       "    <tr>\n",
       "      <th>4</th>\n",
       "      <td>General Information</td>\n",
       "      <td>What geographic regions are covered in this research?</td>\n",
       "      <td>The research includes data from North America, Europe, Asia-Pacific, Latin America, and Africa, providing a comprehensive view of global consumer behavior.</td>\n",
       "    </tr>\n",
       "  </tbody>\n",
       "</table>\n",
       "</div>"
      ],
      "text/plain": [
       "              Category                                               Question  \\\n",
       "0  General Information                           What is syndicated research?   \n",
       "1  General Information                         How often is the data updated?   \n",
       "2  General Information     What FMCG categories are covered in this research?   \n",
       "3  General Information         Who can benefit from this syndicated research?   \n",
       "4  General Information  What geographic regions are covered in this research?   \n",
       "\n",
       "                                                                                                                                                                                                                                                                                                                                                      Answer  \n",
       "0                                                                            Syndicated research is a type of market research where data and findings are collected and compiled by a research agency and then sold to multiple clients. It provides insights into consumer behavior, market trends, and product performance across various FMCG categories.  \n",
       "1                                                                                                                                                                    The data is typically updated on a monthly basis, with quarterly and annual summaries available. Real-time or weekly updates may also be available depending on the subscription level.  \n",
       "2  The research covers a wide range of FMCG categories, including: Food and Beverages (e.g., Snacks, soft drinks, dairy products), Personal Care (e.g., Skincare, haircare, oral care products), Household Cleaning (e.g., Detergents, surface cleaners, disinfectants), and Over-the-Counter Pharmaceuticals (e.g., Pain relievers, vitamins, supplements).  \n",
       "3                                                                                                                                                              This research is valuable for FMCG manufacturers, retailers, marketing agencies, and financial analysts looking to understand market dynamics, consumer preferences, and product performance.  \n",
       "4                                                                                                                                                                                                The research includes data from North America, Europe, Asia-Pacific, Latin America, and Africa, providing a comprehensive view of global consumer behavior.  "
      ]
     },
     "execution_count": 37,
     "metadata": {},
     "output_type": "execute_result"
    }
   ],
   "source": [
    "import requests\n",
    "import pandas as pd\n",
    "\n",
    "data = pd.read_csv(r'Data_prep/data.csv', sep=',')\n",
    "\n",
    "data.head()"
   ]
  },
  {
   "cell_type": "markdown",
   "id": "5114c24e-85e5-4034-b171-3d0084a1b72a",
   "metadata": {},
   "source": [
    "# Adding unique ID for each document"
   ]
  },
  {
   "cell_type": "code",
   "execution_count": 38,
   "id": "efc45243-0475-4f65-8852-4eb0a700ee96",
   "metadata": {},
   "outputs": [
    {
     "data": {
      "text/html": [
       "<div>\n",
       "<style scoped>\n",
       "    .dataframe tbody tr th:only-of-type {\n",
       "        vertical-align: middle;\n",
       "    }\n",
       "\n",
       "    .dataframe tbody tr th {\n",
       "        vertical-align: top;\n",
       "    }\n",
       "\n",
       "    .dataframe thead th {\n",
       "        text-align: right;\n",
       "    }\n",
       "</style>\n",
       "<table border=\"1\" class=\"dataframe\">\n",
       "  <thead>\n",
       "    <tr style=\"text-align: right;\">\n",
       "      <th></th>\n",
       "      <th>Category</th>\n",
       "      <th>Question</th>\n",
       "      <th>Answer</th>\n",
       "      <th>doc_id</th>\n",
       "    </tr>\n",
       "  </thead>\n",
       "  <tbody>\n",
       "    <tr>\n",
       "      <th>0</th>\n",
       "      <td>General Information</td>\n",
       "      <td>What is syndicated research?</td>\n",
       "      <td>Syndicated research is a type of market research where data and findings are collected and compiled by a research agency and then sold to multiple clients. It provides insights into consumer behavior, market trends, and product performance across various FMCG categories.</td>\n",
       "      <td>2dd9200a</td>\n",
       "    </tr>\n",
       "    <tr>\n",
       "      <th>1</th>\n",
       "      <td>General Information</td>\n",
       "      <td>How often is the data updated?</td>\n",
       "      <td>The data is typically updated on a monthly basis, with quarterly and annual summaries available. Real-time or weekly updates may also be available depending on the subscription level.</td>\n",
       "      <td>1f0a30a7</td>\n",
       "    </tr>\n",
       "    <tr>\n",
       "      <th>2</th>\n",
       "      <td>General Information</td>\n",
       "      <td>What FMCG categories are covered in this research?</td>\n",
       "      <td>The research covers a wide range of FMCG categories, including: Food and Beverages (e.g., Snacks, soft drinks, dairy products), Personal Care (e.g., Skincare, haircare, oral care products), Household Cleaning (e.g., Detergents, surface cleaners, disinfectants), and Over-the-Counter Pharmaceuticals (e.g., Pain relievers, vitamins, supplements).</td>\n",
       "      <td>a899e27a</td>\n",
       "    </tr>\n",
       "    <tr>\n",
       "      <th>3</th>\n",
       "      <td>General Information</td>\n",
       "      <td>Who can benefit from this syndicated research?</td>\n",
       "      <td>This research is valuable for FMCG manufacturers, retailers, marketing agencies, and financial analysts looking to understand market dynamics, consumer preferences, and product performance.</td>\n",
       "      <td>219af693</td>\n",
       "    </tr>\n",
       "    <tr>\n",
       "      <th>4</th>\n",
       "      <td>General Information</td>\n",
       "      <td>What geographic regions are covered in this research?</td>\n",
       "      <td>The research includes data from North America, Europe, Asia-Pacific, Latin America, and Africa, providing a comprehensive view of global consumer behavior.</td>\n",
       "      <td>d7826b0e</td>\n",
       "    </tr>\n",
       "  </tbody>\n",
       "</table>\n",
       "</div>"
      ],
      "text/plain": [
       "              Category                                               Question  \\\n",
       "0  General Information                           What is syndicated research?   \n",
       "1  General Information                         How often is the data updated?   \n",
       "2  General Information     What FMCG categories are covered in this research?   \n",
       "3  General Information         Who can benefit from this syndicated research?   \n",
       "4  General Information  What geographic regions are covered in this research?   \n",
       "\n",
       "                                                                                                                                                                                                                                                                                                                                                      Answer  \\\n",
       "0                                                                            Syndicated research is a type of market research where data and findings are collected and compiled by a research agency and then sold to multiple clients. It provides insights into consumer behavior, market trends, and product performance across various FMCG categories.   \n",
       "1                                                                                                                                                                    The data is typically updated on a monthly basis, with quarterly and annual summaries available. Real-time or weekly updates may also be available depending on the subscription level.   \n",
       "2  The research covers a wide range of FMCG categories, including: Food and Beverages (e.g., Snacks, soft drinks, dairy products), Personal Care (e.g., Skincare, haircare, oral care products), Household Cleaning (e.g., Detergents, surface cleaners, disinfectants), and Over-the-Counter Pharmaceuticals (e.g., Pain relievers, vitamins, supplements).   \n",
       "3                                                                                                                                                              This research is valuable for FMCG manufacturers, retailers, marketing agencies, and financial analysts looking to understand market dynamics, consumer preferences, and product performance.   \n",
       "4                                                                                                                                                                                                The research includes data from North America, Europe, Asia-Pacific, Latin America, and Africa, providing a comprehensive view of global consumer behavior.   \n",
       "\n",
       "     doc_id  \n",
       "0  2dd9200a  \n",
       "1  1f0a30a7  \n",
       "2  a899e27a  \n",
       "3  219af693  \n",
       "4  d7826b0e  "
      ]
     },
     "execution_count": 38,
     "metadata": {},
     "output_type": "execute_result"
    }
   ],
   "source": [
    "import pandas as pd\n",
    "import hashlib\n",
    "\n",
    "\n",
    "# Function to create a hash for each row\n",
    "def create_doc_id(row):\n",
    "    # Concatenate the row data into a single string (you can customize which columns to include)\n",
    "    row_string = ''.join(row.astype(str))\n",
    "    \n",
    "    # Generate a SHA-256 hash of the concatenated string (but only picks first 8 digits for a shorted id)\n",
    "    return hashlib.sha256(row_string.encode()).hexdigest()[:8]\n",
    "\n",
    "# Apply the function to each row to create a 'doc_id' column\n",
    "data['doc_id'] = data.apply(create_doc_id, axis=1)\n",
    "\n",
    "data.head()\n",
    "\n"
   ]
  },
  {
   "cell_type": "code",
   "execution_count": 39,
   "id": "9d2d8dcf-7855-4598-9cea-d0d5d07b4605",
   "metadata": {},
   "outputs": [
    {
     "data": {
      "text/plain": [
       "{'Category': 'General Information',\n",
       " 'Question': 'What is syndicated research?',\n",
       " 'Answer': 'Syndicated research is a type of market research where data and findings are collected and compiled by a research agency and then sold to multiple clients. It provides insights into consumer behavior, market trends, and product performance across various FMCG categories.',\n",
       " 'doc_id': '2dd9200a'}"
      ]
     },
     "execution_count": 39,
     "metadata": {},
     "output_type": "execute_result"
    }
   ],
   "source": [
    "final_data = data.to_dict(orient='records')\n",
    "final_data[0]"
   ]
  },
  {
   "cell_type": "code",
   "execution_count": 40,
   "id": "3a3339ca-4ff2-479b-a1f6-ce18c75bed90",
   "metadata": {},
   "outputs": [],
   "source": [
    "prompt_template = \"\"\"\n",
    "You emulate a client who wants to know more about the syndicated research coverage by a compant.\n",
    "Formulate 5 questions this client might ask based on a FAQ record. The record\n",
    "should contain the answer to the questions, and the questions should be complete and not too short.\n",
    "If possible, use as fewer words as possible from the record. \n",
    "\n",
    "The record:\n",
    "\n",
    "category: {Category}\n",
    "question: {Question}\n",
    "answer: {Answer}\n",
    "\n",
    "Provide the output in parsable JSON without using code blocks:\n",
    "\n",
    "[\"question1\", \"question2\", ..., \"question5\"]\n",
    "\"\"\".strip()"
   ]
  },
  {
   "cell_type": "code",
   "execution_count": 44,
   "id": "905e6a52-be47-4ee2-85a5-a425b5a25af4",
   "metadata": {},
   "outputs": [
    {
     "data": {
      "text/plain": [
       "'You emulate a client who wants to know more about the syndicated research coverage by a compant.\\nFormulate 5 questions this client might ask based on a FAQ record. The record\\nshould contain the answer to the questions, and the questions should be complete and not too short.\\nIf possible, use as fewer words as possible from the record. \\n\\nThe record:\\n\\nCategory: General Information\\nQuestion: What is syndicated research?\\nAnswer: Syndicated research is a type of market research where data and findings are collected and compiled by a research agency and then sold to multiple clients. It provides insights into consumer behavior, market trends, and product performance across various FMCG categories.\\n\\nProvide the output in parsable JSON without using code blocks:\\n\\n[\"question1\", \"question2\", ..., \"question5\"]'"
      ]
     },
     "execution_count": 44,
     "metadata": {},
     "output_type": "execute_result"
    }
   ],
   "source": [
    "prompt_template.format(**final_data[0])"
   ]
  },
  {
   "cell_type": "code",
   "execution_count": null,
   "id": "cced53ad-a4dd-45f9-a184-aabbc5afc59f",
   "metadata": {},
   "outputs": [],
   "source": []
  },
  {
   "cell_type": "code",
   "execution_count": null,
   "id": "b35d3f6a-659b-449c-b2a8-011ccf5706b1",
   "metadata": {},
   "outputs": [],
   "source": [
    "# Using Open AI to generate 5 questions for each record"
   ]
  },
  {
   "cell_type": "code",
   "execution_count": 46,
   "id": "3447a32f-6b0f-4513-8aa7-b33a87f86319",
   "metadata": {},
   "outputs": [
    {
     "name": "stdout",
     "output_type": "stream",
     "text": [
      "OpenAI API key is not set.\n"
     ]
    }
   ],
   "source": [
    "import os\n",
    "\n",
    "# Attempt to retrieve the API key from environment variables\n",
    "api_key = os.getenv(\"OPENAI_API_KEY\")\n",
    "\n",
    "if api_key:\n",
    "    print(\"OpenAI API key is available.\")\n",
    "else:\n",
    "    print(\"OpenAI API key is not set.\")\n"
   ]
  },
  {
   "cell_type": "code",
   "execution_count": 45,
   "id": "d227d933-b774-4951-9983-096b25659025",
   "metadata": {},
   "outputs": [
    {
     "ename": "OpenAIError",
     "evalue": "The api_key client option must be set either by passing api_key to the client or by setting the OPENAI_API_KEY environment variable",
     "output_type": "error",
     "traceback": [
      "\u001b[0;31m---------------------------------------------------------------------------\u001b[0m",
      "\u001b[0;31mOpenAIError\u001b[0m                               Traceback (most recent call last)",
      "Cell \u001b[0;32mIn[45], line 2\u001b[0m\n\u001b[1;32m      1\u001b[0m \u001b[38;5;28;01mfrom\u001b[39;00m \u001b[38;5;21;01mopenai\u001b[39;00m \u001b[38;5;28;01mimport\u001b[39;00m OpenAI\n\u001b[0;32m----> 2\u001b[0m client \u001b[38;5;241m=\u001b[39m \u001b[43mOpenAI\u001b[49m\u001b[43m(\u001b[49m\u001b[43m)\u001b[49m\n",
      "File \u001b[0;32m/usr/local/python/3.10.13/lib/python3.10/site-packages/openai/_client.py:105\u001b[0m, in \u001b[0;36mOpenAI.__init__\u001b[0;34m(self, api_key, organization, project, base_url, timeout, max_retries, default_headers, default_query, http_client, _strict_response_validation)\u001b[0m\n\u001b[1;32m    103\u001b[0m     api_key \u001b[38;5;241m=\u001b[39m os\u001b[38;5;241m.\u001b[39menviron\u001b[38;5;241m.\u001b[39mget(\u001b[38;5;124m\"\u001b[39m\u001b[38;5;124mOPENAI_API_KEY\u001b[39m\u001b[38;5;124m\"\u001b[39m)\n\u001b[1;32m    104\u001b[0m \u001b[38;5;28;01mif\u001b[39;00m api_key \u001b[38;5;129;01mis\u001b[39;00m \u001b[38;5;28;01mNone\u001b[39;00m:\n\u001b[0;32m--> 105\u001b[0m     \u001b[38;5;28;01mraise\u001b[39;00m OpenAIError(\n\u001b[1;32m    106\u001b[0m         \u001b[38;5;124m\"\u001b[39m\u001b[38;5;124mThe api_key client option must be set either by passing api_key to the client or by setting the OPENAI_API_KEY environment variable\u001b[39m\u001b[38;5;124m\"\u001b[39m\n\u001b[1;32m    107\u001b[0m     )\n\u001b[1;32m    108\u001b[0m \u001b[38;5;28mself\u001b[39m\u001b[38;5;241m.\u001b[39mapi_key \u001b[38;5;241m=\u001b[39m api_key\n\u001b[1;32m    110\u001b[0m \u001b[38;5;28;01mif\u001b[39;00m organization \u001b[38;5;129;01mis\u001b[39;00m \u001b[38;5;28;01mNone\u001b[39;00m:\n",
      "\u001b[0;31mOpenAIError\u001b[0m: The api_key client option must be set either by passing api_key to the client or by setting the OPENAI_API_KEY environment variable"
     ]
    }
   ],
   "source": [
    "from openai import OpenAI\n",
    "client = OpenAI()"
   ]
  }
 ],
 "metadata": {
  "kernelspec": {
   "display_name": "Python 3 (ipykernel)",
   "language": "python",
   "name": "python3"
  },
  "language_info": {
   "codemirror_mode": {
    "name": "ipython",
    "version": 3
   },
   "file_extension": ".py",
   "mimetype": "text/x-python",
   "name": "python",
   "nbconvert_exporter": "python",
   "pygments_lexer": "ipython3",
   "version": "3.10.13"
  }
 },
 "nbformat": 4,
 "nbformat_minor": 5
}
